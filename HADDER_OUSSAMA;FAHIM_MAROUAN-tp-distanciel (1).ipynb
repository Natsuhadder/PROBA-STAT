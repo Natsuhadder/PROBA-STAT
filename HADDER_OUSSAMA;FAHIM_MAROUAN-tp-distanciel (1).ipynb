{
 "cells": [
  {
   "cell_type": "markdown",
   "metadata": {},
   "source": [
    "<figure>\n",
    "  <IMG SRC=\"http://www.intraperso.univ-nantes.fr/uas/intraperso/LOGO/logo%20un2012blanc_larg40.png\" WIDTH=250 ALIGN=\"right\">\n",
    "</figure>\n",
    "\n",
    "# Distanciel X1MF020 : Théorie des Probabilités avancée\n",
    "*P. Carmona*\n",
    "\n",
    "Pour avancer dans le notebook et exécuter les cellules il faut taper Shift+Enter ou utiliser la barre d'outils ci-dessus et choisir Cell, Run Cell and select Below\n",
    "\n",
    "## Consignes\n",
    "\n",
    "Vous répondrez aux questions qui apparaissent en $\\color{red} {rouge}$ en modifiant ce notebook. En insérant des cellules de type Markdown pour le texte et des cellules de type Code pour le code. Normalement vous devriez pouvoir vous contenter des cellules prévues en dessous de chaque question : certaines en markdown pour le texte et d'autres en Code pour les codes. \n",
    "\n",
    "Ensuite vous sauvez ce notebook sous le nom Prenom_Nom_tpmasterproba.ipynb et vous le déposez sur Madoc."
   ]
  },
  {
   "cell_type": "markdown",
   "metadata": {},
   "source": [
    "## Validation d'un générateur aléatoire\n",
    "\n",
    "### Variables aléatoires à densité\n",
    "\n",
    "On dispose d'un échantillon que l'on pense être l'échantillon d'une loi normale centrée réduite. On\n",
    "désire valider graphiquement ce fait."
   ]
  },
  {
   "cell_type": "code",
   "execution_count": 2,
   "metadata": {},
   "outputs": [
    {
     "data": {
      "text/plain": [
       "array([ 1.04004028,  1.20434301,  1.27081398, ..., -0.23797512,\n",
       "        1.25931098,  0.2468748 ])"
      ]
     },
     "execution_count": 2,
     "metadata": {},
     "output_type": "execute_result"
    }
   ],
   "source": [
    "import numpy as np\n",
    "import matplotlib.pyplot as plt\n",
    "import matplotlib.mlab as mlab\n",
    "import numpy.random as rnd\n",
    "import scipy\n",
    "from scipy import stats\n",
    "import statsmodels\n",
    "from statsmodels.distributions.empirical_distribution import ECDF\n",
    "\n",
    "\n",
    "\n",
    "\n",
    "#from np.random import *\n",
    "x=rnd.randn(10000)\n",
    "x"
   ]
  },
  {
   "cell_type": "markdown",
   "metadata": {},
   "source": [
    "Une première idée est de dire que vu que l'on a tiré beaucoup de\n",
    "points, $n=10000$, un histogramme devrait être proche de la fonction\n",
    "densité.\n",
    "\n",
    "Regardons donc comment dessiner un histogramme."
   ]
  },
  {
   "cell_type": "code",
   "execution_count": 3,
   "metadata": {},
   "outputs": [
    {
     "data": {
      "text/plain": [
       "(array([  1.,   0.,   0.,   0.,   1.,   1.,   0.,   2.,   1.,   1.,   2.,\n",
       "          2.,   4.,   5.,   6.,   6.,   4.,   9.,   7.,   9.,  21.,  13.,\n",
       "         19.,  30.,  26.,  30.,  42.,  51.,  55.,  72.,  65.,  96.,  76.,\n",
       "        106., 123., 137., 156., 158., 177., 207., 202., 233., 235., 257.,\n",
       "        257., 257., 305., 276., 336., 322., 309., 327., 328., 318., 325.,\n",
       "        335., 280., 278., 258., 268., 264., 238., 208., 220., 209., 167.,\n",
       "        164., 142., 135., 107.,  92.,  80.,  84.,  63.,  78.,  50.,  56.,\n",
       "         47.,  34.,  24.,  21.,  12.,  19.,  10.,   4.,   8.,   7.,   4.,\n",
       "          5.,   7.,   6.,   3.,   2.,   0.,   0.,   1.,   1.,   0.,   0.,\n",
       "          1.]),\n",
       " array([-4.15161298, -4.0714596 , -3.99130621, -3.91115282, -3.83099943,\n",
       "        -3.75084604, -3.67069265, -3.59053927, -3.51038588, -3.43023249,\n",
       "        -3.3500791 , -3.26992571, -3.18977232, -3.10961894, -3.02946555,\n",
       "        -2.94931216, -2.86915877, -2.78900538, -2.70885199, -2.62869861,\n",
       "        -2.54854522, -2.46839183, -2.38823844, -2.30808505, -2.22793166,\n",
       "        -2.14777828, -2.06762489, -1.9874715 , -1.90731811, -1.82716472,\n",
       "        -1.74701133, -1.66685794, -1.58670456, -1.50655117, -1.42639778,\n",
       "        -1.34624439, -1.266091  , -1.18593761, -1.10578423, -1.02563084,\n",
       "        -0.94547745, -0.86532406, -0.78517067, -0.70501728, -0.6248639 ,\n",
       "        -0.54471051, -0.46455712, -0.38440373, -0.30425034, -0.22409695,\n",
       "        -0.14394357, -0.06379018,  0.01636321,  0.0965166 ,  0.17666999,\n",
       "         0.25682338,  0.33697676,  0.41713015,  0.49728354,  0.57743693,\n",
       "         0.65759032,  0.73774371,  0.8178971 ,  0.89805048,  0.97820387,\n",
       "         1.05835726,  1.13851065,  1.21866404,  1.29881743,  1.37897081,\n",
       "         1.4591242 ,  1.53927759,  1.61943098,  1.69958437,  1.77973776,\n",
       "         1.85989114,  1.94004453,  2.02019792,  2.10035131,  2.1805047 ,\n",
       "         2.26065809,  2.34081147,  2.42096486,  2.50111825,  2.58127164,\n",
       "         2.66142503,  2.74157842,  2.8217318 ,  2.90188519,  2.98203858,\n",
       "         3.06219197,  3.14234536,  3.22249875,  3.30265213,  3.38280552,\n",
       "         3.46295891,  3.5431123 ,  3.62326569,  3.70341908,  3.78357247,\n",
       "         3.86372585]),\n",
       " <BarContainer object of 100 artists>)"
      ]
     },
     "execution_count": 3,
     "metadata": {},
     "output_type": "execute_result"
    },
    {
     "data": {
      "image/png": "[encoded data removed]",
      "text/plain": [
       "<Figure size 432x288 with 1 Axes>"
      ]
     },
     "metadata": {
      "needs_background": "light"
     },
     "output_type": "display_data"
    }
   ],
   "source": [
    "plt.hist(x,100)"
   ]
  },
  {
   "cell_type": "code",
   "execution_count": 4,
   "metadata": {},
   "outputs": [
    {
     "data": {
      "text/plain": [
       "array([ 0.        ,  0.52631579,  1.05263158,  1.57894737,  2.10526316,\n",
       "        2.63157895,  3.15789474,  3.68421053,  4.21052632,  4.73684211,\n",
       "        5.26315789,  5.78947368,  6.31578947,  6.84210526,  7.36842105,\n",
       "        7.89473684,  8.42105263,  8.94736842,  9.47368421, 10.        ])"
      ]
     },
     "execution_count": 4,
     "metadata": {},
     "output_type": "execute_result"
    }
   ],
   "source": [
    "np.linspace(0,10,20)\n"
   ]
  },
  {
   "cell_type": "markdown",
   "metadata": {},
   "source": [
    "Si l'on tape ?hist on a une aide sur la fonction histogramme. Par exemple, on peut nettement améliorer l'histogramme en utilisant la fonction hist du paquetage plt: "
   ]
  },
  {
   "cell_type": "code",
   "execution_count": 5,
   "metadata": {},
   "outputs": [
    {
     "name": "stdout",
     "output_type": "stream",
     "text": [
      "<BarContainer object of 50 artists>\n"
     ]
    },
    {
     "data": {
      "image/png": "[encoded data removed]",
      "text/plain": [
       "<Figure size 432x288 with 1 Axes>"
      ]
     },
     "metadata": {
      "needs_background": "light"
     },
     "output_type": "display_data"
    }
   ],
   "source": [
    "n, bins, patches = plt.hist(x, 50, density=1, facecolor='green', alpha=0.75)\n",
    "\n",
    "print(patches)"
   ]
  },
  {
   "cell_type": "code",
   "execution_count": 6,
   "metadata": {},
   "outputs": [
    {
     "data": {
      "text/plain": [
       "array([-4.15161298, -3.99130621, -3.83099943, -3.67069265, -3.51038588,\n",
       "       -3.3500791 , -3.18977232, -3.02946555, -2.86915877, -2.70885199,\n",
       "       -2.54854522, -2.38823844, -2.22793166, -2.06762489, -1.90731811,\n",
       "       -1.74701133, -1.58670456, -1.42639778, -1.266091  , -1.10578423,\n",
       "       -0.94547745, -0.78517067, -0.6248639 , -0.46455712, -0.30425034,\n",
       "       -0.14394357,  0.01636321,  0.17666999,  0.33697676,  0.49728354,\n",
       "        0.65759032,  0.8178971 ,  0.97820387,  1.13851065,  1.29881743,\n",
       "        1.4591242 ,  1.61943098,  1.77973776,  1.94004453,  2.10035131,\n",
       "        2.26065809,  2.42096486,  2.58127164,  2.74157842,  2.90188519,\n",
       "        3.06219197,  3.22249875,  3.38280552,  3.5431123 ,  3.70341908,\n",
       "        3.86372585])"
      ]
     },
     "execution_count": 6,
     "metadata": {},
     "output_type": "execute_result"
    }
   ],
   "source": [
    "bins"
   ]
  },
  {
   "cell_type": "markdown",
   "metadata": {},
   "source": [
    "\n",
    "Regardons donc maintenant comment tracer la fonction densité\n",
    "gaussienne standard. On la trace sur l'intervalle [-5,5].\n",
    "$\\color{red} {\\text{Pourquoi\n",
    "est-ce suffisant ?}}$\n"
   ]
  },
  {
   "cell_type": "markdown",
   "metadata": {},
   "source": []
  },
  {
   "cell_type": "code",
   "execution_count": 7,
   "metadata": {},
   "outputs": [
    {
     "name": "stdout",
     "output_type": "stream",
     "text": [
      "[7.21413102e-05 1.38560825e-04 2.59379880e-04 4.73229155e-04\n",
      " 8.41484437e-04 1.45834430e-03 2.46327806e-03 4.05514317e-03\n",
      " 6.50636364e-03 1.01744246e-02 1.55067495e-02 2.30340907e-02\n",
      " 3.33473062e-02 4.70532721e-02 6.47080464e-02 8.67293584e-02\n",
      " 1.13295684e-01 1.44244739e-01 1.78988853e-01 2.16466839e-01\n",
      " 2.55150341e-01 2.93116533e-01 3.28188882e-01 3.58135028e-01\n",
      " 3.80898376e-01 3.94830623e-01 3.98888875e-01 3.92764660e-01\n",
      " 3.76922681e-01 3.52542536e-01 3.21373575e-01 2.85527663e-01\n",
      " 2.47243910e-01 2.08661537e-01 1.71632128e-01 1.37592309e-01\n",
      " 1.07505112e-01 8.18659789e-02 6.07599194e-02 4.39511564e-02\n",
      " 3.09858068e-02 2.12909332e-02 1.42582417e-02 9.30629115e-03\n",
      " 5.92006784e-03 3.67042301e-03 2.21791521e-03 1.30621043e-03\n",
      " 7.49757364e-04 4.19437948e-04 2.28693639e-04]\n"
     ]
    },
    {
     "data": {
      "image/png": "[encoded data removed]",
      "text/plain": [
       "<Figure size 432x288 with 1 Axes>"
      ]
     },
     "metadata": {
      "needs_background": "light"
     },
     "output_type": "display_data"
    }
   ],
   "source": [
    "mu,sigma=0,1\n",
    "y = scipy.stats.norm.pdf( bins, mu, sigma)\n",
    "print(y)\n",
    "l = plt.plot(bins, y, 'r--', linewidth=1)\n"
   ]
  },
  {
   "cell_type": "markdown",
   "metadata": {},
   "source": [
    "Superposons les deux graphiques"
   ]
  },
  {
   "cell_type": "code",
   "execution_count": 8,
   "metadata": {},
   "outputs": [
    {
     "data": {
      "text/plain": [
       "[<matplotlib.lines.Line2D at 0x2a507af03a0>]"
      ]
     },
     "execution_count": 8,
     "metadata": {},
     "output_type": "execute_result"
    },
    {
     "data": {
      "image/png": "[encoded data removed]",
      "text/plain": [
       "<Figure size 432x288 with 1 Axes>"
      ]
     },
     "metadata": {
      "needs_background": "light"
     },
     "output_type": "display_data"
    }
   ],
   "source": [
    "x=rnd.randn(100000)\n",
    "plt.hist(x,40,density=True)\n",
    "tt=np.arange(start=-5,stop=+5,step=0.01)\n",
    "plt.plot(tt,scipy.stats.norm.pdf(tt,0,1))\n"
   ]
  },
  {
   "cell_type": "markdown",
   "metadata": {},
   "source": [
    "### Variables aléatoires discrètes \n",
    "Lorsque l'on dispose d'un échantillon d'une loi de discrète, par\n",
    "exemple la loi de Poisson, nous  pouvons encore comparer l'histogramme\n",
    "à la densité. Mais cela ne donne pas toujours des résultats convaincants. Jouez avec les paramètres de l'histogramme pour vous en convaincre."
   ]
  },
  {
   "cell_type": "code",
   "execution_count": 9,
   "metadata": {},
   "outputs": [
    {
     "data": {
      "text/plain": [
       "[<matplotlib.lines.Line2D at 0x2a507baf1c0>]"
      ]
     },
     "execution_count": 9,
     "metadata": {},
     "output_type": "execute_result"
    },
    {
     "data": {
      "image/png": "[encoded data removed]",
      "text/plain": [
       "<Figure size 432x288 with 1 Axes>"
      ]
     },
     "metadata": {
      "needs_background": "light"
     },
     "output_type": "display_data"
    }
   ],
   "source": [
    "import scipy\n",
    "\n",
    "from scipy import stats \n",
    "\n",
    "x=rnd.poisson(lam=2,size=100)\n",
    "plt.hist(x,50,density=True) # on remarque que ce n'est pas adéquat à la focntion de densité de proba comme le montre le graphe\n",
    "z=scipy.stats.poisson\n",
    "plt.plot(np.arange(10),z.pmf(np.arange(10),1))"
   ]
  },
  {
   "cell_type": "markdown",
   "metadata": {},
   "source": [
    "$\\color{red}{Glivenko-Cantelli}:$ Il n'est pas toujours facile de jouer avec les histogrammes. Voila\n",
    " pourquoi nous allons  introduire la\n",
    "fonction de répartition empirique. Si $X_1, \\ldots, X_n$ sont des\n",
    "variables indépendantes de même loi, alors la fonction de répartion \n",
    "$$ F_n(x)=F_n(x,\\omega) = \\frac{1}{n} \\sum_{1\\le i\\le n} 1_{X_i(\\omega)\n",
    "  \\le x}$$\n",
    "est en fait la fonction de répartition de la variable aléatoire\n",
    "$\\mu_n(\\omega)$ a valeurs probabilité, $\\mu_n(\\omega)= \\frac{1}{n}\n",
    "\\sum_{1\\le i\\le n} \\delta_{X_i(\\omega)}$ qui est appelée loi empirique\n",
    "de l'échantillon $(X_1, \\ldots, X_n)$. Par la loi forte des grands\n",
    "nombres, à $x$ réel fixé, on a la convergence presque sûre\n",
    "$$ F_n(x,\\omega) \\to F(x)\\, p.s.$$\n",
    "où $F$ est la fonction de répartition de la loi commune des $X_i$.\n",
    "\n",
    "Si la fonction $F$ est continue, alors il découle presque immédiatement du\n",
    " second lemme de Dini que la convergence est uniforme. En fait, il n'y\n",
    " a pas besoin que $F$ soit continue, c'est le théorème de\n",
    " Glivenko-Cantelli: presque sûrement $\\sup_{x\\in \\mathbb{R}}\n",
    "\\left|F_n(x,\\omega) -F(x)\\right|$ converge vers 0."
   ]
  },
  {
   "cell_type": "markdown",
   "metadata": {},
   "source": [
    "On peut également montrer que la vitesse de convergence est de l'ordre\n",
    "de $\\sqrt{n}$. Andrei Kolmogorov a montré que \n",
    "$\\sqrt{n} \\sup_{x\\in\\mathbb{R}}\n",
    "\\left|F_n(x,\\omega) -F(x)\\right|$ convergeait en loi vers une variable aléatoire  $K$ dont\n",
    "la loi, appellée loi de Kolmogorov Smirnov, ne dépend pas de la loi de $X_1$.\n",
    "\n",
    "\n",
    "Voici une fonction qui dessine la fonction de répartition empirique"
   ]
  },
  {
   "cell_type": "code",
   "execution_count": 10,
   "metadata": {},
   "outputs": [
    {
     "data": {
      "text/plain": [
       "[<matplotlib.lines.Line2D at 0x2a507c6cc70>]"
      ]
     },
     "execution_count": 10,
     "metadata": {},
     "output_type": "execute_result"
    },
    {
     "data": {
      "image/png": "[encoded data removed]",
      "text/plain": [
       "<Figure size 432x288 with 1 Axes>"
      ]
     },
     "metadata": {
      "needs_background": "light"
     },
     "output_type": "display_data"
    }
   ],
   "source": [
    "import statsmodels\n",
    "from statsmodels.distributions.empirical_distribution import ECDF\n",
    "\n",
    "x=rnd.poisson(lam=2,size=1000)\n",
    "ecdf=ECDF(x)\n",
    "plt.step(range(10),ecdf(range(10)))\n",
    "plt.step(np.arange(10),z.cdf(np.arange(10),2))"
   ]
  },
  {
   "cell_type": "markdown",
   "metadata": {},
   "source": [
    "  ### Les Moments\n",
    "  Il s'agit de comparer les moments empiriques aux moments de la loi\n",
    "cible.\n",
    "On se contente souvent de la moyenne et de la variance empirique.\n"
   ]
  },
  {
   "cell_type": "code",
   "execution_count": 11,
   "metadata": {
    "scrolled": true
   },
   "outputs": [
    {
     "data": {
      "text/plain": [
       "(3.027, 3.126271)"
      ]
     },
     "execution_count": 11,
     "metadata": {},
     "output_type": "execute_result"
    }
   ],
   "source": [
    "x=rnd.poisson(lam=3,size=1000)\n",
    "x.mean(), x.var()"
   ]
  },
  {
   "cell_type": "markdown",
   "metadata": {},
   "source": [
    "### Méthode de la fonction quantile\n",
    "\n",
    "Reprendre le cours et/ou le TD qui expliquent la méthode.\n",
    "\n",
    "$\\color{red}{\\text{Ecrire une fonction appelée}}$ $\\color{green}{genexp}$ $\\color{red}{\\text{qui prend pour paramètres }}$ $\\color{red}{n\\in\\mathbb{N}^*}$ $\\color{red}{\\text{et}}$ $\\color{red}{l>0}$ \n",
    "$ \\color{red}{\\text{et\n",
    "  qui retourne un échantillon de taille}}$ $\\color{red}{n}$ $\\color{red}{\\text{de loi exponentielle de\n",
    "  paramètre}}$ $\\color{red}{l>0}$. \n",
    "  \n",
    "  $\\color{red}{\\text{ATTENTION: vous devez utiliser la méthode de la\n",
    "  fonction quantile}},$\n",
    "  $\\color{red}{\\text{pas la fonction rnd.exponential de la bibliothèque.}}$\n",
    "  \n",
    "  Voici en exemple une fonction qui retourne un echantillon de $n$ uniformes sur $[0,u]$. N'oubliez pas l'indentation chère à Python."
   ]
  },
  {
   "cell_type": "code",
   "execution_count": 12,
   "metadata": {},
   "outputs": [
    {
     "data": {
      "text/plain": [
       "array([1.38661104, 0.89365759, 0.3430145 , 1.64569837, 1.55237563,\n",
       "       0.13487803, 0.70539593, 1.50068778, 0.25527879, 0.59621356])"
      ]
     },
     "execution_count": 12,
     "metadata": {},
     "output_type": "execute_result"
    }
   ],
   "source": [
    "def munif(n,u):\n",
    "    x=rnd.uniform(low=0.0,high=u,size=n)\n",
    "    return(x)\n",
    "\n",
    "munif(10,2)"
   ]
  },
  {
   "cell_type": "code",
   "execution_count": 13,
   "metadata": {},
   "outputs": [],
   "source": [
    "def genexp(n,l):\n",
    "    ech_unif=munif(n,1)\n",
    "    fct_quantile=[] #liste qui va nous donner les n échantillons qui suivent la loi exp\n",
    "    for i in range(len(ech_unif)):\n",
    "        fct_quantile.append((-1/l)*np.log(1-ech_unif[i])) #on rajoute à chaque fois dans notre liste la fonction quantile associée à la loi exp à partir d'un échantillon de loi uniforme\n",
    "    \n",
    "    return np.array(fct_quantile)\n",
    "    \n",
    "\n"
   ]
  },
  {
   "cell_type": "markdown",
   "metadata": {},
   "source": [
    "$\\color{red}{\\text{Appliquer la fonction}}$ $\\color{green} {genexp}$ $\\color{red}{\\text{pour}}$ $\\color{red} {l=2.5}$ $\\color{red}{\\text{et simuler un échantillon\n",
    "  de taille}}$  $\\color{red} {n=100}$.\n",
    "  - $\\color{red}{\\text{tracer l'histogramme de l'échantillon}}$\n",
    "  - $\\color{red}{\\text{superposer la densité de la loi exponentielle de paramètre}}$ \n",
    "  $\\color{red} {l}$\n",
    "  - $\\color{red}{\\text{Calculer l'espérance de la loi et la comparer avec la moyenne\n",
    "    de l'échantillon simulé}}$ \n",
    "  - $\\color{red}{\\text{Calculer la variance de la loi et la comparer avec la\n",
    "    variance de l'échantillon simulé.}}$\n",
    "\n",
    "\n",
    "$\\color{red}{\\text{Recommencer avec}}$ $\\color{red} {n=5000}$ $\\color{red}{\\text{puis}}$ $\\color{red} {n=100 000}$.\n",
    " \n",
    " #### Consigne\n",
    " Insérez autant de cellules dont vous avez besoin en dessous de celle-ci pour réponre aux questions. Il existe deux types de cellule : markdown (text) et code (du code)."
   ]
  },
  {
   "cell_type": "code",
   "execution_count": 23,
   "metadata": {
    "jupyter": {
     "outputs_hidden": true
    }
   },
   "outputs": [
    {
     "name": "stdout",
     "output_type": "stream",
     "text": [
      "Les espérances sim/loi pour n=100 sont :\n",
      "(0.39592272392775346, 0.4)\n",
      "Les variances sim/loi pour n=100 sont :\n",
      "(0.15898364370250057, 0.16)\n"
     ]
    },
    {
     "data": {
      "image/png": "[encoded data removed]",
      "text/plain": [
       "<Figure size 1080x360 with 3 Axes>"
      ]
     },
     "metadata": {
      "needs_background": "light"
     },
     "output_type": "display_data"
    }
   ],
   "source": [
    "n=100\n",
    "l=2.5\n",
    "exp=genexp(n,l)\n",
    "plt.figure(figsize=(15,5))\n",
    "plt.subplot(1,3,1)\n",
    "plt.hist(exp,50,density=True)\n",
    "tt1=np.arange(start=0,stop=3,step=0.001)\n",
    "y=scipy.stats.expon.pdf(tt1,scale=1/l)\n",
    "plt.plot(tt1,y)\n",
    "plt.title('n=100')\n",
    "\n",
    "\n",
    "n1=5000\n",
    "l=2.5\n",
    "exp=genexp(n1,l)\n",
    "\n",
    "plt.subplot(1,3,2)\n",
    "plt.hist(exp,50,density=True)\n",
    "tt1=np.arange(start=0,stop=3,step=0.001)\n",
    "y1=scipy.stats.expon.pdf(tt1,scale=1/l)\n",
    "plt.plot(tt1,y1)\n",
    "plt.title('n=5000')\n",
    "n2=10000\n",
    "l=2.5\n",
    "exp=genexp(n2,l)\n",
    "plt.subplot(1,3,3)\n",
    "plt.hist(exp,50,density=True)\n",
    "tt1=np.arange(start=0,stop=3,step=0.001)\n",
    "y2=scipy.stats.expon.pdf(tt1,scale=1/l)\n",
    "plt.plot(tt1,y2)\n",
    "\n",
    "plt.title('n=10000')\n",
    "esperance_sim=exp.mean() #Moyenne empirique de la simulation\n",
    "esperance_loi_exp=1/l #esperance de la loi\n",
    "variance_sim=exp.var() #variance empirique de al sim\n",
    "\n",
    "variance_loi=1/l**2 #variance de la loi\n",
    "\n",
    "print('Les espérances sim/loi pour n=100 sont :')\n",
    "print((esperance_sim,esperance_loi_exp))\n",
    "print('Les variances sim/loi pour n=100 sont :')\n",
    "\n",
    "print((variance_sim,variance_loi))\n"
   ]
  },
  {
   "cell_type": "code",
   "execution_count": 24,
   "metadata": {
    "jupyter": {
     "outputs_hidden": true
    }
   },
   "outputs": [
    {
     "name": "stdout",
     "output_type": "stream",
     "text": [
      "Les espérances sim/loi pour n=5000 sont :\n",
      "(0.39592272392775346, 0.4)\n",
      "Les variances sim/loi pour n=5000 sont :\n",
      "(0.15898364370250057, 0.16)\n"
     ]
    }
   ],
   "source": [
    "\n",
    "\n",
    "esperance_sim=exp.mean()\n",
    "esperance_loi_exp=1/l\n",
    "variance_sim=exp.var()\n",
    "variance_loi=1/l**2\n",
    "print('Les espérances sim/loi pour n=5000 sont :')\n",
    "print((esperance_sim,esperance_loi_exp))\n",
    "print('Les variances sim/loi pour n=5000 sont :')\n",
    "print((variance_sim,variance_loi))\n",
    "\n"
   ]
  },
  {
   "cell_type": "code",
   "execution_count": 25,
   "metadata": {},
   "outputs": [
    {
     "name": "stdout",
     "output_type": "stream",
     "text": [
      "Les espérances sim/loi pour n=10000 sont :\n",
      "(0.39592272392775346, 0.4)\n",
      "Les variances sim/loi pour n=10000 sont :\n",
      "(0.15898364370250057, 0.16)\n"
     ]
    }
   ],
   "source": [
    "\n",
    "esperance_sim=exp.mean()\n",
    "esperance_loi_exp=1/l\n",
    "variance_sim=exp.var()\n",
    "variance_loi=1/l**2\n",
    "print('Les espérances sim/loi pour n=10000 sont :')\n",
    "print((esperance_sim,esperance_loi_exp))\n",
    "print('Les variances sim/loi pour n=10000 sont :')\n",
    "print((variance_sim,variance_loi))"
   ]
  },
  {
   "cell_type": "markdown",
   "metadata": {},
   "source": [
    "### Remarque :\n",
    "\n",
    "$\\color{Orange}{\\text{On observe que plus on augmente le nombre des échantillons et plus on augmente notre précision sur les éspérances/variances mais aussi par rapport à la superposition de la courbe simulée avec la densité de proba de la loi}}$"
   ]
  },
  {
   "cell_type": "markdown",
   "metadata": {},
   "source": [
    "$\\color{red}{\\text{Reprendre les mêmes questions avec la loi de Cauchy standard qui\n",
    "  admet pour densité}}$ $\\color{red}{\\frac{1}{\\pi(1+x^2)}.}$  \n",
    "  \n",
    "  - $\\color{red}{\\text{ Que remarquez vous ?}}$\n",
    "  - $\\color{red}{\\text{ Utiliser en plus le\n",
    "  théorème de Glivenko-Cantelli pour valider  votre générateur.}}$"
   ]
  },
  {
   "cell_type": "code",
   "execution_count": 26,
   "metadata": {
    "jupyter": {
     "outputs_hidden": true
    }
   },
   "outputs": [],
   "source": [
    "def gencauchy(n):\n",
    "    ech_unif=munif(n,1)\n",
    "    fct_quantile=[] #liste qui va nous donner les n échantillons qui suivent la loi \n",
    "    for i in range(len(ech_unif)):\n",
    "        fct_quantile.append(np.tan(np.pi*(ech_unif[i]-1/2))) #on rajoute à chaque fois dans notre liste la fonction quantile associée à la loi à partir d'un échantillon de loi uniforme\n",
    "    \n",
    "    return np.array(fct_quantile)\n",
    "\n",
    "\n"
   ]
  },
  {
   "cell_type": "code",
   "execution_count": 216,
   "metadata": {},
   "outputs": [
    {
     "data": {
      "text/plain": [
       "Text(0.5, 0.98, 'Densité de probabilité de la loi expo vs de léchantillon simulé')"
      ]
     },
     "execution_count": 216,
     "metadata": {},
     "output_type": "execute_result"
    },
    {
     "data": {
      "image/png": "[encoded data removed]",
      "text/plain": [
       "<Figure size 1080x360 with 3 Axes>"
      ]
     },
     "metadata": {
      "needs_background": "light"
     },
     "output_type": "display_data"
    }
   ],
   "source": [
    "n3=100\n",
    "cauchy=gencauchy(n3)\n",
    "\n",
    "plt.figure(figsize=(15,5))\n",
    "plt.subplot(1,3,1)\n",
    "plt.hist(cauchy,20,density=True,label='simulation')\n",
    "tt3=np.arange(start=-10,stop=10,step=0.001)\n",
    "x2=scipy.stats.cauchy.pdf(tt3)\n",
    "plt.plot(tt3,x2,label='pdf de la loi')\n",
    "plt.title('n=100')\n",
    "plt.legend()\n",
    "n4=5000\n",
    "cauchy1=gencauchy(n4)\n",
    "\n",
    "plt.subplot(1,3,2)\n",
    "plt.hist(cauchy1,20,density=True,label='simulation')\n",
    "tt4=np.arange(start=-10,stop=10,step=0.001)\n",
    "x=scipy.stats.cauchy.pdf(tt4)\n",
    "plt.plot(tt4,x,label='pdf de la loi')\n",
    "plt.title('n=5000')\n",
    "plt.legend()\n",
    "\n",
    "\n",
    "n5=10000\n",
    "cauchy2=gencauchy(n5)\n",
    "\n",
    "plt.subplot(1,3,3)\n",
    "plt.hist(cauchy2,20,density=True,label='simulation')\n",
    "tt5=np.arange(start=-10,stop=10,step=0.001)\n",
    "x1=scipy.stats.cauchy.pdf(tt5)\n",
    "plt.plot(tt5,x1,label='pdf de la loi')\n",
    "plt.title('n=10000')\n",
    "plt.legend()\n",
    "plt.suptitle('Densité de probabilité de la loi de cauchy vs de l''échantillon simulé')\n",
    "\n"
   ]
  },
  {
   "cell_type": "markdown",
   "metadata": {},
   "source": [
    "### Remarque : \n",
    "Contrairement à la loi exponentielle , on observe que pour des n trés grands, on ne peut plus observer une similitude avec la densité de proba de la loi.De plus l'esperance et la variance ne sont pas définies pour la loi de cauchy"
   ]
  },
  {
   "cell_type": "code",
   "execution_count": 59,
   "metadata": {},
   "outputs": [
    {
     "data": {
      "text/plain": [
       "Text(0.5, 1.0, 'n=5000')"
      ]
     },
     "execution_count": 59,
     "metadata": {},
     "output_type": "execute_result"
    },
    {
     "data": {
      "image/png": "[encoded data removed]",
      "text/plain": [
       "<Figure size 1080x360 with 2 Axes>"
      ]
     },
     "metadata": {
      "needs_background": "light"
     },
     "output_type": "display_data"
    }
   ],
   "source": [
    "ecdf=ECDF(cauchy)\n",
    "plt.figure(figsize=(15,5))\n",
    "plt.subplot(1,2,1)\n",
    "plt.step(range(-50,50,1),ecdf(range(-50,50,1)),label=' répartition empirique')\n",
    "plt.step(np.arange(-50,50,1),(np.arctan(np.arange(-50,50,1))+np.pi/2)/np.pi,label='répartition normale')\n",
    "plt.legend()\n",
    "plt.title(\"n=100\")\n",
    "\n",
    "ecdf1=ECDF(cauchy1)\n",
    "plt.subplot(1,2,2)\n",
    "plt.step(range(-50,50,1),ecdf1(range(-50,50,1)),label=' répartition empirique')\n",
    "plt.step(np.arange(-50,50,1),(np.arctan(np.arange(-50,50,1))+np.pi/2)/np.pi,label='répartition normale')\n",
    "plt.legend()\n",
    "plt.suptitle('Répartition empirique vs répartition normale')\n",
    "plt.title(\"n=5000\")\n",
    "\n",
    "\n"
   ]
  },
  {
   "cell_type": "markdown",
   "metadata": {},
   "source": [
    "### Remarque :\n",
    "$\\color{Orange}{\\text{On observe que pour des n trés grands , notre fonction de répartition empirique des échantillons simulés converge vers}\\\\ \\text{la fonction de répartition de la loi de Cauchy , ce qui valide le théorème} \\ \\textbf{Glivenko-Cantelli} \\ \\text{énoncé.} }$"
   ]
  },
  {
   "cell_type": "markdown",
   "metadata": {},
   "source": [
    "### Algorithme d'acceptation rejet\n",
    "Relisez le chapître du cours en distanciel  sur l'algorithme.\n",
    "\n",
    "$\\color{red}{\\text{Montrer que l'on peut simuler des variables aléatoires qui\n",
    "    suivent la loi gaussienne standard par la méthode}}$\n",
    "    $\\color{red}{\\text{d'acceptation\n",
    "    rejet en prenant la loi de Cauchy comme loi instrumentale.}}$\n",
    "    \n",
    "\n"
   ]
  },
  {
   "cell_type": "markdown",
   "metadata": {},
   "source": [
    "### Réponse :\n",
    "On veut simuler des variables aléatoires qui suivent la loi gaussienne , donc on considère la fonction de densité $f$ associée à cette loi gaussienne , et g la densité de la loi de Cauchy qu'on considérera comme loi instrumentale dans notre méthode d'$\\textbf{Acceptation Rejet}$ et si u suit la loi uniforme standard, la condition primordiale de cette méthode est d'avoir :\n",
    "\n",
    "$$ (\\exists M \\in [1,+\\infty]) : \\quad u \\leq f(t)\\leq Mg(t) \\quad (\\forall t \\in \\mathbb{R}^{+})  $$\n",
    "\n",
    "Sachant que $\\dfrac{f(t)}{g(t)}=(1+x^{2})(\\exp(\\dfrac{-x^{2}}{2}))\\sqrt{\\dfrac{\\pi}{2}}$ , on peut faire une étude de fonction pour finalement trouver que $ M=\\sqrt{\\dfrac{2\\pi}{e}} $ qui est atteinte pour $x=1$ ( $x \\in [0,+ \\infty]$)\n",
    "\n",
    "$\\textbf{Donc on peut bien simuler des variables aléatoires qui suivent la loi gaussienne standard par la méthode  d'acceptation rejet en prenant la loi de Cauchy comme loi instrumentale.}$\n",
    "\n",
    "    "
   ]
  },
  {
   "cell_type": "markdown",
   "metadata": {},
   "source": [
    "Le code suivant génère un échantillon de 100 variables aléatoires de Cauchy standard"
   ]
  },
  {
   "cell_type": "code",
   "execution_count": 69,
   "metadata": {},
   "outputs": [],
   "source": [
    "def mcauchy(n):\n",
    "    x=rnd.standard_cauchy(n)\n",
    "    \n",
    "    return x\n"
   ]
  },
  {
   "cell_type": "markdown",
   "metadata": {},
   "source": [
    "$\\color{red}{\\text{Implémenter l'algorithme d'acceptation rejet en créant une fonction \n",
    "}}$ $\\color{green}{\\text{AR}}$ $\\color{red}{\\text{qui a pour paramètre}}$  $\\color{\\red} {n\\in \\mathbb{N}^*}$ $\\color{red}{\\text{et qui retourne un}}$ $\\color{red} n$  $\\color{red}{\\text{échantillon de variables aléatoires suivant une loi Normale standard.}}$$\\color{red}{\\text{ATTENTION, il\n",
    "    faut utiliser une boucle while.}}$\n",
    "    "
   ]
  },
  {
   "cell_type": "code",
   "execution_count": 120,
   "metadata": {},
   "outputs": [
    {
     "name": "stdout",
     "output_type": "stream",
     "text": [
      "0.6635700066357001\n"
     ]
    }
   ],
   "source": [
    "def ar(n):\n",
    "    \n",
    "    i=0\n",
    "    ech=[]\n",
    "    indice_geo=0 #pour la 3eme question pour verifier si ça suit une loi géometrique\n",
    "    L=[] #Pour calculer le taux d'acceptation\n",
    "    T=[] \n",
    "    while i<n:\n",
    "        x=mcauchy(1)\n",
    "        u=munif(1,1)\n",
    "        y=(np.sqrt(np.exp(1))/2*(1+x**2)*np.exp((-x**2)/2))\n",
    "        if u<=y:\n",
    "            ech.append(x[0])\n",
    "            i=i+1\n",
    "            L.append(1)\n",
    "            \n",
    "        else :\n",
    "            L.append(0)\n",
    "            \n",
    "    return np.array(ech),np.array(L)\n",
    "\n",
    "\n",
    "\n"
   ]
  },
  {
   "cell_type": "markdown",
   "metadata": {},
   "source": [
    "$\\color{red}{\\text{Valider cet algorithme à\n",
    "    l'aide des critères suivants:}}$\n",
    "- $\\color{red}{\\text{comparaison de l'histogramme de l'échantillon avec la densité de la loi cible.}}$ \n",
    "- $\\color{red}{\\text{comparaison de la moyenne (resp. variance) de la  loi cible et de la moyenne (resp. variance) empirique}}$$\\color{red}{\\text{  de l'échantillon simulé.}}$\n",
    "- $\\color{red}{\\text{Retrouver par la simulation le taux d'acceptation et vérifier que le nombre de variables simulées suivant}}$\n",
    "$\\color{red}{\\text{la loi instrumentale suit bien une loi géométrique.}}$"
   ]
  },
  {
   "cell_type": "code",
   "execution_count": 103,
   "metadata": {},
   "outputs": [
    {
     "data": {
      "text/plain": [
       "Text(0.5, 0.98, 'pdf de la loi normale vs algorithme de rejet')"
      ]
     },
     "execution_count": 103,
     "metadata": {},
     "output_type": "execute_result"
    },
    {
     "data": {
      "image/png": "[encoded data removed]",
      "text/plain": [
       "<Figure size 1080x360 with 2 Axes>"
      ]
     },
     "metadata": {
      "needs_background": "light"
     },
     "output_type": "display_data"
    }
   ],
   "source": [
    "k=100\n",
    "ar_ech=ar(k)\n",
    "plt.figure(figsize=(15,5))\n",
    "plt.subplot(1,2,1)\n",
    "plt.hist(ar_ech,50,density=True,label='algorithme de rejet')\n",
    "tt1=np.arange(start=-4,stop=4,step=0.001)\n",
    "y=scipy.stats.norm.pdf(tt1)\n",
    "plt.plot(tt1,y,label='algorithme de rejet')\n",
    "plt.legend()\n",
    "plt.title('n=100')\n",
    "k2=10000\n",
    "ar_ech=ar(k2)\n",
    "\n",
    "plt.subplot(1,2,2)\n",
    "plt.hist(ar_ech,50,density=True,label='algorithme de rejet')\n",
    "plt.plot(tt1,y,label='loi normale')\n",
    "plt.title('n=10000')\n",
    "plt.legend()\n",
    "plt.suptitle('pdf de la loi normale vs algorithme de rejet')"
   ]
  },
  {
   "cell_type": "markdown",
   "metadata": {},
   "source": [
    "### Remarque :\n",
    "On observe que plus on augmente la taille de notre échantillon et plus on augmente la précision de notre algorithme."
   ]
  },
  {
   "cell_type": "code",
   "execution_count": 108,
   "metadata": {},
   "outputs": [
    {
     "name": "stdout",
     "output_type": "stream",
     "text": [
      "0.01946259297891621 0\n",
      "1.0277863421865898 1\n"
     ]
    },
    {
     "data": {
      "image/png": "[encoded data removed]",
      "text/plain": [
       "<Figure size 432x288 with 1 Axes>"
      ]
     },
     "metadata": {
      "needs_background": "light"
     },
     "output_type": "display_data"
    }
   ],
   "source": [
    "#comparaison de la moyenne (resp. variance) de la loi cible et de la moyenne (resp. variance) empirique  de l'échantillon simulé. :\n",
    "#Moyenne/variance de la loi normale :\n",
    "mean_norm=0\n",
    "var_norm=1\n",
    "N=np.arange(1,10000,100)\n",
    "VAR_prec=[]\n",
    "ESP_prec=[]\n",
    "for n in N:\n",
    "    x=ar(n)\n",
    "    mean_emp=x.mean()\n",
    "    var_emp=x.var()\n",
    "    ESP_prec.append(abs(mean_emp-mean_norm))\n",
    "    VAR_prec.append(abs(var_emp-var_norm))\n",
    "    \n",
    "plt.plot(N,ESP_prec,'r',label='imprécision sur l''esperenace')\n",
    "plt.plot(N,VAR_prec,'b',label='imprécision sur la variance')\n",
    "plt.legend()\n",
    "    \n",
    "\n",
    "\n",
    "print(mean_emp,mean_norm)\n",
    "print(var_emp,var_norm)"
   ]
  },
  {
   "cell_type": "markdown",
   "metadata": {},
   "source": [
    "$\\color{red}{\\text{Retrouver le taux d'acceptation et montrer que le nombre de variables instrumentales simulées suit}}$ $\\color{red}{\\text{une loi géométrique.}}$"
   ]
  },
  {
   "cell_type": "code",
   "execution_count": 164,
   "metadata": {},
   "outputs": [
    {
     "name": "stdout",
     "output_type": "stream",
     "text": [
      "[1 0 0 ... 1 1 1]\n",
      "0.6592827004219409\n"
     ]
    },
    {
     "data": {
      "text/plain": [
       "array([1, 3, 1, 3, 1, 1, 1, 1, 3, 2, 1, 3, 1, 2, 2, 1, 3, 1, 3, 1, 1, 1,\n",
       "       1, 2, 1, 1, 2, 1, 1, 1, 1, 1, 1, 1, 1, 2, 1, 1, 2, 1, 1, 1, 1, 3,\n",
       "       4, 1, 1, 2, 2, 1, 1, 2, 1, 1, 1, 1, 2, 1, 3, 2, 1, 2, 3, 1, 1, 2,\n",
       "       2, 1, 1, 1, 1, 3, 1, 1, 1, 2, 1, 1, 5, 1, 1, 1, 4, 1, 1, 3, 1, 1,\n",
       "       1, 1, 3, 1, 1, 1, 1, 1, 2, 4, 1, 2])"
      ]
     },
     "execution_count": 164,
     "metadata": {},
     "output_type": "execute_result"
    }
   ],
   "source": [
    "#Retrouver par la simulation le taux d'acceptation \n",
    "\n",
    "liste_accept=ar(10000)[1]\n",
    "print(liste_accept)\n",
    "\n",
    "taux_accept=liste_accept.mean()\n",
    "print(taux_accept)\n",
    "\n",
    "#création d'une fonction qui retourne une liste qui contient le nombre de variables simulés :\n",
    "\n",
    "def nbre_vari(L):\n",
    "    s=0\n",
    "    T=[]\n",
    "    for i in range(len(L)):\n",
    "        if L[i]==0:\n",
    "            s=s+1\n",
    "            \n",
    "        if L[i]==1:\n",
    "            s=s+1\n",
    "            T.append(s)\n",
    "            s=0\n",
    "    return np.array(T)\n",
    "\n",
    "\n",
    "nbre_vari(ar(100)[1])\n",
    "\n",
    "\n"
   ]
  },
  {
   "cell_type": "markdown",
   "metadata": {},
   "source": [
    "### Remarque : \n",
    "On a bien un taux d'acceptation qui est à peu prés égale à $\\dfrac{1}{M}$"
   ]
  },
  {
   "cell_type": "code",
   "execution_count": 166,
   "metadata": {},
   "outputs": [
    {
     "name": "stdout",
     "output_type": "stream",
     "text": [
      "0.6605892456070815\n"
     ]
    },
    {
     "data": {
      "text/plain": [
       "<matplotlib.legend.Legend at 0x2a51f586c40>"
      ]
     },
     "execution_count": 166,
     "metadata": {},
     "output_type": "execute_result"
    },
    {
     "data": {
      "image/png": "[encoded data removed]",
      "text/plain": [
       "<Figure size 432x288 with 1 Axes>"
      ]
     },
     "metadata": {
      "needs_background": "light"
     },
     "output_type": "display_data"
    }
   ],
   "source": [
    "# vérifier que le nombre de variables simulées suivant  la loi instrumentale suit bien une loi géométrique.\n",
    "from scipy.stats import geom\n",
    "ech_ar,liste=ar(10000)\n",
    "print(liste.mean())\n",
    "\n",
    "loi_geo=stats.geom(liste.mean())\n",
    "ecdf=ECDF(ech_ar)\n",
    "plt.step(np.arange(-50,50,1),ecdf(np.arange(-50,50,1)),label='répartition empirique simulée')\n",
    "plt.step(np.arange(-50,50,1),loi_geo.cdf(np.arange(-50,50,1)),label='répartition normale de la loi géo')\n",
    "plt.legend()"
   ]
  },
  {
   "cell_type": "markdown",
   "metadata": {},
   "source": [
    "$\\color{red}{\\text{Montrer que l'on peut simuler la loi du demi-cercle, i.e. la\n",
    "    loi de densité}}$ $\\color{red}{f(x)=\\frac{2}{\\pi}\\sqrt{1-x^2} 1_{(-1\\le x\\le 1)}}$\n",
    "  $\\color{red}{\\text{  en prenant la loi uniforme sur}}$ $\\color{red}{[-1,1]}$ $\\color{red}{\\text{comme loi\n",
    "    instrumentale.}}$\n",
    "\n"
   ]
  },
  {
   "cell_type": "markdown",
   "metadata": {},
   "source": [
    "### Réponse : \n",
    "Comme ce qui a été fait tout à l'heure , il suffit de trouver un M tel que :\n",
    "$$ \\forall x \\in [-1,1] \\quad \\dfrac{f(x)}{g(x)} \\leq M \\quad \\text{avec g=1/2 la densité de la loi uniforme}$$\n",
    "\n",
    "De ce fait , on a bien que $\\forall x \\in [-1,1] :$ $\\dfrac{f(x)}{g(x)}=2f(x) \\leq \\dfrac{4}{\\pi}$ et qui est atteinte pour $x=0$\n",
    "\n",
    "Donc on peut simuler la loi du demi-cercle en prenant la loi uniforme sur [−1,1] comme loi instrumentale."
   ]
  },
  {
   "cell_type": "markdown",
   "metadata": {},
   "source": [
    "$\\color{red}{\\text{Implémenter et valider l'algorithme en suivant les étapes\n",
    "    proposées à la question précédente.}}$"
   ]
  },
  {
   "cell_type": "code",
   "execution_count": 200,
   "metadata": {},
   "outputs": [
    {
     "name": "stdout",
     "output_type": "stream",
     "text": [
      "0.6366197723675814\n"
     ]
    },
    {
     "data": {
      "image/png": "[encoded data removed]",
      "text/plain": [
       "<Figure size 432x288 with 1 Axes>"
      ]
     },
     "metadata": {
      "needs_background": "light"
     },
     "output_type": "display_data"
    }
   ],
   "source": [
    "def munif_new(n,u):\n",
    "    x=rnd.uniform(low=-1,high=u,size=n)\n",
    "    return(x)\n",
    "\n",
    "def ar_demi(n):\n",
    "    \n",
    "    i=0\n",
    "    ech=[]\n",
    "    indice_geo=0 #pour la 3eme question pour verifier si ça suit une loi géometrique\n",
    "    L=[] #Pour calculer le taux d'acceptation\n",
    "    T=[] \n",
    "    while i<n:\n",
    "        x=munif_new(1,1)\n",
    "        u=munif(1,1)\n",
    "        y=(np.sqrt(1-x**2))\n",
    "        if u<=y:\n",
    "            ech.append(x[0])\n",
    "            i=i+1\n",
    "            L.append(1)\n",
    "            \n",
    "        else :\n",
    "            L.append(0)\n",
    "            \n",
    "    return np.array(ech),np.array(L)\n",
    "\n",
    "plt.hist(ar_demi(100)[0],density=True)\n",
    "\n",
    "print(stats.semicircular.pdf(0))\n",
    "\n"
   ]
  },
  {
   "cell_type": "code",
   "execution_count": 206,
   "metadata": {},
   "outputs": [
    {
     "data": {
      "text/plain": [
       "Text(0.5, 0.98, 'pdf de la loi demi-cercle vs algorithme de rejet')"
      ]
     },
     "execution_count": 206,
     "metadata": {},
     "output_type": "execute_result"
    },
    {
     "data": {
      "image/png": "[encoded data removed]",
      "text/plain": [
       "<Figure size 1080x360 with 2 Axes>"
      ]
     },
     "metadata": {
      "needs_background": "light"
     },
     "output_type": "display_data"
    }
   ],
   "source": [
    "k=100\n",
    "ar_ech1=ar_demi(k)[0]\n",
    "plt.figure(figsize=(15,5))\n",
    "plt.subplot(1,2,1)\n",
    "plt.hist(ar_ech1,50,density=True,label='algorithme de rejet')\n",
    "x=np.linspace(-1,1,100)\n",
    "plt.plot(x,stats.semicircular.pdf(x),label='loi demi-cercle')\n",
    "plt.legend()\n",
    "plt.title('n=100')\n",
    "k2=100000\n",
    "ar_ech2=ar_demi(k2)[0]\n",
    "\n",
    "plt.subplot(1,2,2)\n",
    "plt.hist(ar_ech2,50,density=True,label='algorithme de rejet')\n",
    "plt.plot(x,stats.semicircular.pdf(x),label='loi demi-cercle')\n",
    "plt.title('n=10000')\n",
    "plt.legend()\n",
    "plt.suptitle('pdf de la loi demi-cercle vs algorithme de rejet')"
   ]
  },
  {
   "cell_type": "code",
   "execution_count": 210,
   "metadata": {},
   "outputs": [
    {
     "name": "stdout",
     "output_type": "stream",
     "text": [
      "0.005032045978236288 0\n",
      "0.2535106801660255 0.25\n"
     ]
    },
    {
     "data": {
      "image/png": "[encoded data removed]",
      "text/plain": [
       "<Figure size 432x288 with 1 Axes>"
      ]
     },
     "metadata": {
      "needs_background": "light"
     },
     "output_type": "display_data"
    }
   ],
   "source": [
    "#comparaison de la moyenne (resp. variance) de la loi cible et de la moyenne (resp. variance) empirique  de l'échantillon simulé. :\n",
    "#Moyenne/variance de la loi normale :\n",
    "mean_norm=0\n",
    "var_norm=0.25\n",
    "N=np.arange(1,10000,100)\n",
    "VAR_prec=[]\n",
    "ESP_prec=[]\n",
    "for n in N:\n",
    "    x=ar_demi(n)[0]\n",
    "    mean_emp=x.mean()\n",
    "    var_emp=x.var()\n",
    "    ESP_prec.append(abs(mean_emp-mean_norm))\n",
    "    VAR_prec.append(abs(var_emp-var_norm))\n",
    "    \n",
    "plt.plot(N,ESP_prec,'r',label='imprécision sur l''esperenace')\n",
    "plt.plot(N,VAR_prec,'b',label='imprécision sur la variance')\n",
    "plt.legend()\n",
    "    \n",
    "\n",
    "\n",
    "print(mean_emp,mean_norm)\n",
    "print(var_emp,var_norm)"
   ]
  },
  {
   "cell_type": "markdown",
   "metadata": {},
   "source": [
    "### Remarque : \n",
    "Les résultats sont cohérents avec ce qui était attendu aprés avoir observé l'histogramme : pour n trés grand on augmente notre précision par rapport à la cohérence densité de proba/données simulées."
   ]
  },
  {
   "cell_type": "code",
   "execution_count": 212,
   "metadata": {},
   "outputs": [
    {
     "name": "stdout",
     "output_type": "stream",
     "text": [
      "[1 1 1 ... 1 1 1]\n",
      "0.777363184079602\n"
     ]
    },
    {
     "data": {
      "text/plain": [
       "array([1, 2, 1, 1, 1, 2, 1, 2, 2, 1, 1, 3, 1, 2, 1, 1, 1, 1, 1, 1, 2, 2,\n",
       "       1, 2, 1, 1, 3, 1, 1, 1, 1, 1, 3, 1, 1, 1, 1, 1, 1, 1, 2, 2, 1, 2,\n",
       "       4, 2, 1, 3, 1, 1, 1, 1, 1, 1, 1, 2, 5, 2, 1, 1, 1, 1, 2, 4, 1, 1,\n",
       "       1, 1, 1, 3, 2, 1, 1, 1, 1, 2, 1, 2, 2, 2, 3, 3, 3, 2, 3, 2, 1, 1,\n",
       "       1, 1, 2, 1, 1, 1, 1, 1, 1, 2, 2, 1])"
      ]
     },
     "execution_count": 212,
     "metadata": {},
     "output_type": "execute_result"
    }
   ],
   "source": [
    "#Retrouver par la simulation le taux d'acceptation \n",
    "\n",
    "liste_accept=ar_demi(10000)[1]\n",
    "print(liste_accept)\n",
    "\n",
    "taux_accept=liste_accept.mean()\n",
    "print(taux_accept)\n",
    "\n",
    "#création d'une fonction qui retourne une liste qui contient le nombre de variables simulés :\n",
    "\n",
    "def nbre_vari(L):\n",
    "    s=0\n",
    "    T=[]\n",
    "    for i in range(len(L)):\n",
    "        if L[i]==0:\n",
    "            s=s+1\n",
    "            \n",
    "        if L[i]==1:\n",
    "            s=s+1\n",
    "            T.append(s)\n",
    "            s=0\n",
    "    return np.array(T)\n",
    "\n",
    "\n",
    "nbre_vari(ar(100)[1])\n",
    "\n",
    "\n"
   ]
  },
  {
   "cell_type": "markdown",
   "metadata": {},
   "source": [
    "### Remarque :\n",
    "\n",
    "On observe qu'on obtient un taux d'acceptation qui est à peu prés égale à $\\dfrac{1}{M}=0.78$"
   ]
  },
  {
   "cell_type": "code",
   "execution_count": 213,
   "metadata": {},
   "outputs": [
    {
     "name": "stdout",
     "output_type": "stream",
     "text": [
      "0.6605892456070815\n"
     ]
    },
    {
     "data": {
      "text/plain": [
       "<matplotlib.legend.Legend at 0x2a5261a0a90>"
      ]
     },
     "execution_count": 213,
     "metadata": {},
     "output_type": "execute_result"
    },
    {
     "data": {
      "image/png": "[encoded data removed]",
      "text/plain": [
       "<Figure size 432x288 with 1 Axes>"
      ]
     },
     "metadata": {
      "needs_background": "light"
     },
     "output_type": "display_data"
    }
   ],
   "source": [
    "# vérifier que le nombre de variables simulées suivant  la loi instrumentale suit bien une loi géométrique.\n",
    "from scipy.stats import geom\n",
    "ech_ar_demi,liste_demi=ar_demi(10000)\n",
    "print(liste.mean())\n",
    "\n",
    "loi_semicerc=stats.semicircular(liste_demi.mean())\n",
    "ecdf=ECDF(ech_ar_demi)\n",
    "plt.step(np.arange(-50,50,1),ecdf(np.arange(-50,50,1)),label='répartition empirique simulée')\n",
    "plt.step(np.arange(-50,50,1),loi_semicerc.cdf(np.arange(-50,50,1)),label='répartition normale de la loi géo')\n",
    "plt.legend()"
   ]
  },
  {
   "cell_type": "markdown",
   "metadata": {},
   "source": [
    "### Remarque : \n",
    "\n",
    "On a redémontré que le théorème de Glivenko Cantelli était valide dans ce cas aussi , puisqu'on obtient là encore une fonction de répartition empirique qui converge pour des n trés grands vers la fonction de répartition de la loi géométrique.\n"
   ]
  }
 ],
 "metadata": {
  "kernelspec": {
   "display_name": "Python 3 (ipykernel)",
   "language": "python",
   "name": "python3"
  },
  "language_info": {
   "codemirror_mode": {
    "name": "ipython",
    "version": 3
   },
   "file_extension": ".py",
   "mimetype": "text/x-python",
   "name": "python",
   "nbconvert_exporter": "python",
   "pygments_lexer": "ipython3",
   "version": "3.9.12"
  }
 },
 "nbformat": 4,
 "nbformat_minor": 4
}
